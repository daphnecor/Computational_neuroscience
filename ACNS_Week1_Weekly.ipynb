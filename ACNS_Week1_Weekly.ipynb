{
  "nbformat": 4,
  "nbformat_minor": 0,
  "metadata": {
    "colab": {
      "name": "ACNS_Week1_Weekly.ipynb",
      "provenance": [],
      "collapsed_sections": [],
      "authorship_tag": "ABX9TyODGO6hX9MjjosgnOLV/QJt",
      "include_colab_link": true
    },
    "kernelspec": {
      "name": "python3",
      "display_name": "Python 3"
    }
  },
  "cells": [
    {
      "cell_type": "markdown",
      "metadata": {
        "id": "view-in-github",
        "colab_type": "text"
      },
      "source": [
        "<a href=\"https://colab.research.google.com/github/daphnecor/Computational_neuroscience/blob/main/ACNS_Week1_Weekly.ipynb\" target=\"_parent\"><img src=\"https://colab.research.google.com/assets/colab-badge.svg\" alt=\"Open In Colab\"/></a>"
      ]
    },
    {
      "cell_type": "markdown",
      "metadata": {
        "id": "3HmK1DMnCjXI"
      },
      "source": [
        "# Advanced Computational Neuroscience\n",
        "```\n",
        "Student: Daphne Cornelisse (s1066862)\n",
        "``` \n"
      ]
    },
    {
      "cell_type": "markdown",
      "metadata": {
        "id": "N2nxaHXO8Q6R"
      },
      "source": [
        "# Weekly exercises "
      ]
    },
    {
      "cell_type": "markdown",
      "metadata": {
        "id": "eA53DLloDD5e"
      },
      "source": [
        "## DA Chapter 1: Ex. 1 \n",
        "\n",
        ">  Generate spikes for 10 s (or longer if you want better statistics) using\n",
        "a Poisson spike generator with a constant rate of 100 Hz, and record\n",
        "their times of occurrence. Compute the coefficient of variation of the\n",
        "interspike intervals, and the Fano factor for spike counts obtained\n",
        "over counting intervals ranging from 1 to 100 ms. Plot the interspike\n",
        "interval histogram."
      ]
    },
    {
      "cell_type": "code",
      "metadata": {
        "id": "jtOFpV1dA7SE"
      },
      "source": [
        "'''\n",
        "Dependencies  \n",
        "'''\n",
        "import numpy as np\n",
        "import matplotlib.pyplot as plt\n",
        "import matplotlib as mpl\n",
        "import seaborn as sns\n",
        "import warnings \n",
        "warnings.simplefilter('ignore')\n",
        "from scipy.stats import kde\n",
        "sns.set_style('white')\n",
        "# to change default color cycle\n",
        "color_scheme = ['#616F85', '#C2BAA3', '#F5E6CE', '#DD9D7C', '#C9445F']\n",
        "plt.rcParams['axes.prop_cycle'] = plt.cycler(color=color_scheme)\n",
        "np.random.seed(0) # reproducability"
      ],
      "execution_count": null,
      "outputs": []
    },
    {
      "cell_type": "code",
      "metadata": {
        "id": "wPZssE9mDJ3C"
      },
      "source": [
        "'''\n",
        "Parameterise\n",
        "'''\n",
        "T = 10 # s\n",
        "dt = 0.001 # ms\n",
        "lam = 100 # firing rate (Hz) \n",
        "N = int(T/dt)  # steps"
      ],
      "execution_count": null,
      "outputs": []
    },
    {
      "cell_type": "code",
      "metadata": {
        "id": "AZETGgv6yazU"
      },
      "source": [
        "'''\n",
        "Generate 10 spike trains\n",
        "'''\n",
        "y = np.zeros((T, N))\n",
        "\n",
        "for i in range(T):\n",
        "  for j in range(N):\n",
        "    if np.random.uniform(0,1) < lam*dt: y[i,j] = 1 "
      ],
      "execution_count": null,
      "outputs": []
    },
    {
      "cell_type": "markdown",
      "metadata": {
        "id": "AbwizRwS2Vep"
      },
      "source": [
        "An interspike interval (ISI) is the time in-between subsequent spikes. Computing the differences between spikes for a spike-train yields a distribution. \n",
        "\n",
        "<!-- ![](https://www.tau.ac.il/~tsirel/dump/Static/knowino.org/w/images/3/38/Spiketimes.png) -->\n",
        "\n",
        "<img src=\"https://www.tau.ac.il/~tsirel/dump/Static/knowino.org/w/images/3/38/Spiketimes.png\" alt=\"drawing\" width=\"400\"/>"
      ]
    },
    {
      "cell_type": "code",
      "metadata": {
        "id": "KTgi7vdowWvF"
      },
      "source": [
        "isi = []\n",
        "for tr in range(T):\n",
        "  y_tr = y[tr, :] # take spike train of one trial\n",
        "  spike_times = np.where(y_tr==1) # find indices where neuron spikes\n",
        "  isi.append(list(np.diff(spike_times)[0])) # store interspike-intervals "
      ],
      "execution_count": null,
      "outputs": []
    },
    {
      "cell_type": "code",
      "metadata": {
        "colab": {
          "base_uri": "https://localhost:8080/",
          "height": 478
        },
        "id": "NynoBxSbxSuZ",
        "outputId": "490ec6eb-72f7-4666-f26f-1dfbbc065f33"
      },
      "source": [
        "fig, (ax1, ax2) = plt.subplots(1, 2, figsize=(16,6), dpi=80)\n",
        "fig.suptitle(r'Interspike Intervals for $T=10$ trials', fontsize=14)\n",
        "ax1.hist(isi)\n",
        "ax1.set_xlabel('Interval size (ms)', fontsize=13)\n",
        "ax1.set_ylabel('Count', fontsize=13);\n",
        "\n",
        "ax2.hist(isi, histtype='stepfilled')\n",
        "ax2.set_xlabel('Interval size (ms)', fontsize=13)\n",
        "ax2.set_ylabel('Count', fontsize=13)\n",
        "sns.despine(left=True, bottom=True);"
      ],
      "execution_count": null,
      "outputs": [
        {
          "output_type": "display_data",
          "data": {
            "image/png": "[encoded data removed]",
            "text/plain": [
              "<Figure size 1280x480 with 2 Axes>"
            ]
          },
          "metadata": {
            "tags": [],
            "needs_background": "light"
          }
        }
      ]
    },
    {
      "cell_type": "markdown",
      "metadata": {
        "id": "L2e27C4mJNlD"
      },
      "source": [
        "The Coefficient of variation is the ratio of the standard deviation to the mean \n",
        "\\begin{align}\n",
        "  C_V = \\frac{\\sigma_{\\tau}}{\\langle \\tau \\rangle}\n",
        "\\end{align}"
      ]
    },
    {
      "cell_type": "code",
      "metadata": {
        "colab": {
          "base_uri": "https://localhost:8080/"
        },
        "id": "tMm7pbFqLFbO",
        "outputId": "ce82d670-6ff2-49b0-a5ee-142a37f52ee8"
      },
      "source": [
        "'''\n",
        "Coefficient of variation\n",
        "'''\n",
        "Cv_arr = []\n",
        "for tr in range(T): # iterate through trials\n",
        "  isi_tr = y[:, tr] \n",
        "  Cv_arr.append(np.mean(isi_tr) / np.std(isi_tr))\n",
        "\n",
        "Cv_arr"
      ],
      "execution_count": null,
      "outputs": [
        {
          "output_type": "execute_result",
          "data": {
            "text/plain": [
              "[0.3333333333333333,\n",
              " 1.0,\n",
              " nan,\n",
              " 0.49999999999999994,\n",
              " 0.3333333333333333,\n",
              " 0.3333333333333333,\n",
              " nan,\n",
              " nan,\n",
              " 0.3333333333333333,\n",
              " 0.3333333333333333]"
            ]
          },
          "metadata": {
            "tags": []
          },
          "execution_count": 6
        }
      ]
    },
    {
      "cell_type": "markdown",
      "metadata": {
        "id": "0vxVkKvPJwFW"
      },
      "source": [
        "The Fano Factor is another measure to quantify the amount of variability in a spike train. It is defined as \n",
        "\\begin{align}\n",
        " F = \\frac{\\sigma^2}{\\langle n \\rangle}\n",
        "\\end{align}\n",
        "where $\\sigma^2$ is the variance and $\\langle n \\rangle$ the expected value\n"
      ]
    },
    {
      "cell_type": "markdown",
      "metadata": {
        "id": "UxDSBKGfL66q"
      },
      "source": [
        "## Handouts Chapter 2"
      ]
    },
    {
      "cell_type": "markdown",
      "metadata": {
        "id": "W6I_vF3qMHqF"
      },
      "source": [
        "### Ex. 1\n",
        "\n",
        "---\n",
        "\n",
        "> Show that the Gamma distribution for large $N$ becomes the Gaussian distribution.\n",
        "\n",
        "---\n",
        "\n",
        "We consider the probability density $I_k(t)$ for a certain interval between the last spike before the $k$th spike and the $k$th spike. This density follows a  Gamma distribution given by\n",
        "\\begin{align}\n",
        "  I_k(t) &= \\frac{\\lambda^k t^{k-1}}{(k-1)!} \\exp(-\\lambda t),\n",
        "\\end{align}\n",
        "with mean $k\\lambda$ and variance $k\\lambda^{2}$. We show that the standardised Gamma distribution converges to the normal distribution, that is, \n",
        "\\begin{align}\n",
        "  Z_k = \\frac{X - k\\lambda}{\\sqrt{k\\lambda^2}} \\xrightarrow{d} \\mathcal{N}(0, 1),\n",
        "\\end{align}\n",
        "where $X ~ \\text{Gamma}(k, \\lambda)$. The MGF of the standardized Gamma distribution is given by\n",
        "\\begin{align}\n",
        "  M_{Z_{k}}(\\tau) &= \\mathbb{E}\\left[\\exp(\\tau Z_{k})\\right] \\\\\n",
        "    &= \\mathbb{E}\\left[\\exp\\left(\\tau \\frac{X - k\\lambda}{\\sqrt{k\\lambda^{2}}}\\right)\\right] \\\\\n",
        "    &= \\exp(-\\sqrt{k}\\tau)\\mathbb{E}\\left[\\frac{\\tau}{\\sqrt{k\\lambda^{2}}}X\\right] \\\\\n",
        "    &= \\exp(-\\sqrt{k}\\tau)M_{X}\\left(\\frac{\\tau}{\\sqrt{k\\lambda^{2}}}\\right) \\\\\n",
        "    &= \\exp(-\\sqrt{k}\\tau)\\left(1 - \\frac{\\tau}{\\sqrt{k}}\\right)^{-k} \\\\\n",
        "    &= \\left[\\exp\\left(\\frac{\\tau}{\\sqrt{k}}\\right) - \\frac{\\tau}{\\sqrt{k}}\\exp\\left(\\frac{\\tau}{\\sqrt{k}}\\right)\\right]^{-k},\n",
        "\\end{align}\n",
        "where we substituted the MGF of the Gamma distribution. Using the Taylor expansion of the exponential function around zero, we find\n",
        "\\begin{align}\n",
        "  M_{Z_{k}}(\\tau) &= \\left[\\exp\\left(\\frac{\\tau}{\\sqrt{k}}\\right) - \\frac{\\tau}{\\sqrt{k}}\\exp\\left(\\frac{\\tau}{\\sqrt{k}}\\right)\\right]^{-k} \\\\\n",
        "    &= \\left[\\sum_{i=0}^{\\infty} \\frac{(\\tau/\\sqrt{k})^{i}}{i!} - \\sum_{i=0}^{\\infty} \\frac{(\\tau/\\sqrt{k})^{i + 1}}{i!}\\right]^{-k} \\\\\n",
        "    &= \\left[1 - \\frac{\\tau^{2}}{2k} + (\\mathcal{H}(k^2))^{-1}\\right]^{-k},\n",
        "\\end{align}\n",
        "where $\\mathcal{H}$ denotes the higher order terms. Now as $k \\to \\infty$, we find that\n",
        "\\begin{align}\n",
        "  \\lim_{k \\to \\infty} M_{Z_{k}}(\\tau) = \\exp\\left(\\frac{t^{2}}{2}\\right),\n",
        "\\end{align}\n",
        "using the standard limit. This is the MGF of the standardized normal distribution and as the MGF uniquely identifies a distribution, it follows that the standardised Gamma distribution converges to the standardised normal distribution.\n",
        "\n",
        "Thus, this shows that the ISI distribution for neurons in the brain converges to the normal distribution if we have a sufficiently large number of observations. \n"
      ]
    },
    {
      "cell_type": "markdown",
      "metadata": {
        "id": "HGWSACYMMH_P"
      },
      "source": [
        "### Ex. 2\n",
        "\n",
        "---\n",
        "\n",
        "> Verify that the Laplace transformation of $f(t)=\\frac{1}{\\sqrt \\pi t}$ is $\\hat{f}(s) = \\frac{1}{\\sqrt s}$\n",
        "\n",
        "---\n",
        "\n",
        "If $f(t)$ is a function of $t$, then the Laplace transform of $f$, denoted by $\\hat{f}$ is given by\n",
        "\\begin{align}\n",
        "& \\hat{f}(s) = \\int_{0}^{\\infty} f(t) \\exp(-st) dt\n",
        "\\end{align}\n",
        "We subsitute $f(t) =  \\frac{1}{\\sqrt{\\pi t}}$ in the definition above and simplify\n",
        "\n",
        "\\begin{align}\n",
        "\\hat{f}(s) &= \\int_{0}^{\\infty} \\exp(-st) \\frac{1}{\\sqrt{\\pi t}} dt \\\\\n",
        "&= \\frac{1}{\\sqrt{\\pi}} \\int_{t=0}^{t=\\infty} \\exp(-st) \\frac{1}{\\sqrt{t}} dt  \\\\\n",
        "\\end{align}\n",
        "\n",
        "We do a u-sub\n",
        "$$\n",
        "u = st \\quad du = s \\: dt \\rightarrow dt = \\frac{1}{s} du\n",
        "$$ \n",
        "and integrate\n",
        "\n",
        "\\begin{align}\n",
        "\\hat{f}(s) &= \\frac{1}{\\sqrt{\\pi}} \\int\\limits_{u=0}^{u=\\infty} \\exp(-u) \\frac{\\sqrt{s}}{\\sqrt{ u}} \\frac{1}{s} du \\\\\n",
        "\\hat{f}(s) &=  \\frac{\\sqrt{s}}{\\sqrt{\\pi} s} \\int_{u=0}^{u=\\infty} \\exp(-u) \\frac{1}{\\sqrt{ u}}  du \n",
        "\\end{align}\n",
        "\n",
        "Another one\n",
        "$$\n",
        "w = \\sqrt{u} \\quad dw = \\frac{1}{2 \\sqrt{u}} du \\rightarrow du = 2 \\sqrt{u} dw \n",
        "$$ \n",
        "\n",
        "\\begin{align}\n",
        "\\hat{f}(s) &=  \\frac{\\sqrt{s}}{\\sqrt{\\pi}s} \\int_{0}^{\\infty} \\exp(-w^2) \\frac{1}{\\sqrt{ u}} 2 \\sqrt{u} dw \\\\\n",
        "\\hat{f}(s) &=  \\frac{2 \\sqrt{s}}{\\sqrt{\\pi} s} \\int_{0}^{\\infty} \\exp(-w^2)  dw \n",
        "\\end{align}\n",
        "\n",
        "Recognising the gaussian integral, integration yields\n",
        "\n",
        "\\begin{align}\n",
        "\\hat{f}(s) &= \\frac{2 \\sqrt{s} }{\\sqrt{\\pi} s} \\frac{1}{2} \\sqrt{\\pi} \\\\\n",
        "&= \\frac{\\sqrt{s}}{s} \\\\\n",
        "&= \\frac{1}{\\sqrt{s}}\n",
        "\\end{align}\n",
        "\n",
        "which shows that the Laplace transform of $f(t)=\\frac{1}{\\sqrt \\pi t}$ is $\\hat{f}(s) = \\frac{1}{\\sqrt s}$"
      ]
    },
    {
      "cell_type": "markdown",
      "metadata": {
        "id": "hkXvxdUIMKPG"
      },
      "source": [
        "### Ex. 3a\n",
        "\n",
        "---\n",
        "\n",
        "> For a diffusion process in one dimension that starts at $t=t_0$ at location $v=v_0$, the probability to observe the membrane potential $v$ at a later $t$ is given by\n",
        "\\begin{align}\n",
        "  p(t, v | t_0, v_0) = \\frac{1}{\\sqrt{2 \\pi (t-t_0)\\sigma}} \\exp \\left(- \\frac{(v-\\langle v \\rangle_t)^2)}{2\\sigma^2 (t-t_0)} \\right)\n",
        "\\end{align}\n",
        "with $\\langle v \\rangle_t = v_0 + \\mu (t-t_0)$. The first passage time distribution satisfies the integral equation\n",
        "\\begin{align}\n",
        "  p(t, v_{th} | 0,0) = \\int_0^t dt' p(t, v_{th} | t', v_{th}) \\rho(t', v_{th})\n",
        "\\end{align}\n",
        "a) Using Laplace transforms, compute the first passage time distribution for $\\mu=0$, following the derivation in the text.\n",
        "\n",
        "---\n",
        "\n",
        "\\begin{align}\n",
        "  p(t, v | t_0, v_0) = \\frac{1}{\\sqrt{2 \\pi (t-t_0)\\sigma}} \\exp \\left(- \\frac{(v-v_0^2)}{2\\sigma^2 (t-t_0)} \\right)\n",
        "\\end{align}\n",
        "\n",
        "We have that \n",
        "\\begin{align}\n",
        "    f_1(t) = p(t, v_{th} | t', v_{th}) \n",
        "\\end{align}\n",
        "and\n",
        "\\begin{align}\n",
        "    f_2(t) = p(t', v_{th})\n",
        "\\end{align}\n",
        "\n",
        "Since $\\mu=0$ we have\n",
        "\\begin{align}\n",
        "    \\hat{f_1}(s) &= \\frac{1}{\\sqrt{2s}} \\exp \\left( - \\sqrt{2s} \\frac{v_{th}}{\\sigma} \\right) \\\\\n",
        "    \\\\\n",
        "    \\hat{f_2}(s) &= \\frac{1}{\\sqrt{2s} \\sigma}\n",
        "\\end{align}\n",
        "\n",
        "Therefore, the first passage time distribution for $\\mu = 0$ is\n",
        "\\begin{align}\n",
        "    \\rho(t) = \\frac{v_{th}}{\\sqrt{2\\pi} \\sigma t^{3/2}} \\exp \\left( \\frac{v_{th}^2}{2 \\sigma^2 t} \\right) \n",
        "\\end{align}\n",
        " \n",
        "\n",
        "<!-- \\begin{align}\n",
        "  p(t, v | t_0, v_0) = \\frac{1}{\\sqrt{2 \\pi (t-t_0)\\sigma}} \\exp \\left(- \\frac{(v-v_0^2)}{2\\sigma^2 (t-t_0)} \\right)\n",
        "\\end{align} -->\n"
      ]
    },
    {
      "cell_type": "markdown",
      "metadata": {
        "id": "HnYIb2jLMNe-"
      },
      "source": [
        "## DA Chapter 5: Ex 3.\n",
        "\n",
        "---\n",
        "\n",
        "> Build a model integrate-and-fire neuron from equation 5.8. Use $V_{rest} = -70$ mV, $R_m = 10$ MQ, $\\tau_m = 10$ ms. Initially set $V = V_{rest}$.\n",
        "When the membrane reaches $V_{th} = -54$ mV, make the neuron fire a spike and reset the potential to $V_{reset}=-80$ mV. Show sample voltage traces (with spikes) for a 300-ms-long current pulse (choose a reasonable current $I_e$) centered in a 500-ms-long simulation. Determine the firing rate of the model for various magnitudes of constant $I_e$ and compare the results with equation 5.11.\n",
        "\n",
        "\\begin{align}\n",
        "  \\tau_m \\frac{dV}{dt} = V_{rest} - V + R_m I_e \\qquad [eq. 5.8]\n",
        "\\end{align}\n",
        "\n",
        "---\n"
      ]
    },
    {
      "cell_type": "code",
      "metadata": {
        "id": "6XWw0yS3wv0N"
      },
      "source": [
        "'''\n",
        "Parameterise integrate-and-fire neuron\n",
        "'''\n",
        "v_rest = -70.0 # mV\n",
        "v_th = -54.0   # mV\n",
        "v_reset = -80  # mV\n",
        "R_m = 10.0     # mOhm\n",
        "tau_m = 10.0   # ms\n",
        "dt = 0.1       # ms\n",
        "\n",
        "# differential equation\n",
        "dvdt = lambda I_e, v: ((v_rest - v) + R_m * I_e)/tau_m\n",
        "\n",
        "sim_time = 500  # total simulation time (ms)\n",
        "stim_time = 300 # time that a current is applied (ms)"
      ],
      "execution_count": null,
      "outputs": []
    },
    {
      "cell_type": "code",
      "metadata": {
        "id": "rdvmDe5NMVLm"
      },
      "source": [
        "def integrate_and_fire(I_e):\n",
        "  ''' Integrate and fire neuron model '''\n",
        "\n",
        "  apply_I = np.full(stim_time, I_e)\n",
        "  no_I = np.zeros(sim_time-stim_time)\n",
        "  I_range = np.concatenate((apply_I, no_I), axis=0)\n",
        "\n",
        "  v = np.zeros(sim_time+1) \n",
        "  spiketrain = np.zeros(sim_time+1)\n",
        "  v[0] = v_rest \n",
        "      \n",
        "  for t in range(sim_time):\n",
        "      I_e = I_range[t]\n",
        "      v_next = dvdt(I_e, v[t]) # get differential\n",
        "      v[t+1] = v[t] + v_next * dt # update v\n",
        "      if v[t+1] > v_th: # check if there is a spike and reset\n",
        "          v[t+1] = v_reset\n",
        "          spiketrain[t+1] = 1\n",
        "\n",
        "  return v, spiketrain, np.where(spiketrain==1), I_range"
      ],
      "execution_count": null,
      "outputs": []
    },
    {
      "cell_type": "code",
      "metadata": {
        "id": "oqfi3KvEgxbP"
      },
      "source": [
        "'''\n",
        "Set a current (I_e) and run \n",
        "'''\n",
        "v, spiketrain, spiketimes, I_range = integrate_and_fire(I_e=14)"
      ],
      "execution_count": null,
      "outputs": []
    },
    {
      "cell_type": "code",
      "metadata": {
        "colab": {
          "base_uri": "https://localhost:8080/",
          "height": 596
        },
        "id": "a44xIoeG2egO",
        "outputId": "1c3366ea-d51c-4a9f-b487-d1fb30931942"
      },
      "source": [
        "fig, (ax1, ax2, ax3) = plt.subplots(3, 1, figsize=(16,6), dpi=100, sharex=True)\n",
        "fig.suptitle(r'Behaviour of integrate-and-fire neuron with current $I_e$', fontsize=14)\n",
        "ax1.plot(v)\n",
        "ax1.set_ylabel('voltage (mV)', fontsize=13)\n",
        "\n",
        "ax2.vlines(spiketimes, 0, 1, colors=color_scheme[3])\n",
        "ax2.set_xticks([0, 100, 200, 300, 400, 500])\n",
        "ax2.set_ylabel('neuron', fontsize=13)\n",
        "\n",
        "ax3.plot(I_range, c=color_scheme[4])\n",
        "ax3.set_xlabel('simulation time (ms)', fontsize=13)\n",
        "ax3.set_ylabel(r'$I_e$ (Amp)', fontsize=13)\n",
        "sns.despine(left=False, bottom=False);"
      ],
      "execution_count": null,
      "outputs": [
        {
          "output_type": "display_data",
          "data": {
            "image/png": "[encoded data removed]",
            "text/plain": [
              "<Figure size 1600x600 with 3 Axes>"
            ]
          },
          "metadata": {
            "tags": [],
            "needs_background": "light"
          }
        }
      ]
    },
    {
      "cell_type": "code",
      "metadata": {
        "id": "OV0NwG38BQqC"
      },
      "source": [
        "'''\n",
        "Test firing rate for range of input currents Ie\n",
        "'''\n",
        "Iarr = np.arange(0, 50, 1)\n",
        "total_spikes = []\n",
        "\n",
        "for c in Iarr:\n",
        "  v, spiketrain, spiketimes, I_range = integrate_and_fire(I_e=c)\n",
        "  total_spikes.append(sum(spiketrain)*2) # count all spikes that occured in simulation * 2 (1000 ms)"
      ],
      "execution_count": null,
      "outputs": []
    },
    {
      "cell_type": "code",
      "metadata": {
        "colab": {
          "base_uri": "https://localhost:8080/",
          "height": 414
        },
        "id": "ynVTbOq_B-vQ",
        "outputId": "3ff93da8-c990-4244-dffb-1302dea8384f"
      },
      "source": [
        "fig, ax = plt.subplots(1, figsize=(10,5), dpi=80)\n",
        "fig.suptitle(r'Firing rate for different currents $I_e$', fontsize=14)\n",
        "ax.plot(Iarr, total_spikes, lw=2)\n",
        "ax.set_xlabel(r'Applied current $I$', fontsize=13)\n",
        "ax.set_ylabel('Firing rate (Hz)', fontsize=13);"
      ],
      "execution_count": null,
      "outputs": [
        {
          "output_type": "display_data",
          "data": {
            "image/png": "[encoded data removed]",
            "text/plain": [
              "<Figure size 800x400 with 1 Axes>"
            ]
          },
          "metadata": {
            "tags": [],
            "needs_background": "light"
          }
        }
      ]
    },
    {
      "cell_type": "markdown",
      "metadata": {
        "id": "OhMuDHfjxZ-C"
      },
      "source": [
        "```\n",
        "Student: Daphne Cornelisse (s1066862)\n",
        "``` "
      ]
    }
  ]
}